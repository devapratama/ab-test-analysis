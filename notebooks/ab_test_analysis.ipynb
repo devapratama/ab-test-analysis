{
  "nbformat": 4,
  "nbformat_minor": 0,
  "metadata": {
    "colab": {
      "provenance": [],
      "toc_visible": true
    },
    "kernelspec": {
      "name": "python3",
      "display_name": "Python 3"
    },
    "language_info": {
      "name": "python"
    }
  },
  "cells": [
    {
      "cell_type": "markdown",
      "source": [
        "# A/B Testing Analysis: Web Page Conversion"
      ],
      "metadata": {
        "id": "wdWr1_3ErDE4"
      }
    },
    {
      "cell_type": "markdown",
      "source": [
        "# Project Background & Data Structure\n",
        "\n",
        "E-commerce company developed a new web page to increase the conversion rate—the percentage of users who decide to pay for the product. This analysis evaluates whether a newly designed web page increases user conversion rates compared to the existing page. We'll assess overall performance and explore potential differences across countries (US, UK, and CA).\n",
        "\n",
        "\n",
        "We'll use two datasets:\n",
        "\n",
        "ab_data.csv: Contains user interactions with the web pages.\n",
        "\n",
        "countries.csv: Provides user country information."
      ],
      "metadata": {
        "id": "0W9KUqF-rJMb"
      }
    },
    {
      "cell_type": "markdown",
      "source": [
        "## Setting Up Environment"
      ],
      "metadata": {
        "id": "pVUXqlavkMCH"
      }
    },
    {
      "cell_type": "code",
      "execution_count": 20,
      "metadata": {
        "id": "clZb6UGPn-Dl"
      },
      "outputs": [],
      "source": [
        "# Import necessary libraries\n",
        "import pandas as pd\n",
        "import numpy as np\n",
        "import matplotlib.pyplot as plt\n",
        "import seaborn as sns\n",
        "import matplotlib.ticker as mticker\n",
        "from scipy import stats\n",
        "import datetime\n",
        "from statsmodels.stats.proportion import proportions_ztest\n",
        "from statsmodels.stats.power import TTestIndPower, GofChisquarePower\n",
        "\n",
        "\n",
        "# Set global styling\n",
        "sns.set(style=\"whitegrid\")\n",
        "palette = 'Set2'"
      ]
    },
    {
      "cell_type": "markdown",
      "source": [
        "## Loading and Examining Data"
      ],
      "metadata": {
        "id": "_nIbCnnOr_pF"
      }
    },
    {
      "cell_type": "code",
      "source": [
        "# Load datasets\n",
        "df = pd.read_csv('ab_data.csv')\n",
        "countries_df = pd.read_csv('countries.csv')\n",
        "\n",
        "# Display basic information about the datasets\n",
        "print(\"A/B Testing Dataset Information:\")\n",
        "df.info()\n",
        "print(\"\\nFirst 5 rows of A/B testing data:\")\n",
        "df.head()"
      ],
      "metadata": {
        "colab": {
          "base_uri": "https://localhost:8080/",
          "height": 466
        },
        "id": "xWxzupESqJkj",
        "outputId": "997767f3-8154-46e8-ff3a-e326ee010add"
      },
      "execution_count": 21,
      "outputs": [
        {
          "output_type": "stream",
          "name": "stdout",
          "text": [
            "A/B Testing Dataset Information:\n",
            "<class 'pandas.core.frame.DataFrame'>\n",
            "RangeIndex: 294480 entries, 0 to 294479\n",
            "Data columns (total 5 columns):\n",
            " #   Column        Non-Null Count   Dtype \n",
            "---  ------        --------------   ----- \n",
            " 0   user_id       294480 non-null  int64 \n",
            " 1   timestamp     294480 non-null  object\n",
            " 2   group         294480 non-null  object\n",
            " 3   landing_page  294480 non-null  object\n",
            " 4   converted     294480 non-null  int64 \n",
            "dtypes: int64(2), object(3)\n",
            "memory usage: 11.2+ MB\n",
            "\n",
            "First 5 rows of A/B testing data:\n"
          ]
        },
        {
          "output_type": "execute_result",
          "data": {
            "text/plain": [
              "   user_id timestamp      group landing_page  converted\n",
              "0   851104   11:48.6    control     old_page          0\n",
              "1   804228   01:45.2    control     old_page          0\n",
              "2   661590   55:06.2  treatment     new_page          0\n",
              "3   853541   28:03.1  treatment     new_page          0\n",
              "4   864975   52:26.2    control     old_page          1"
            ],
            "text/html": [
              "\n",
              "  <div id=\"df-3969fba1-0e48-4891-b1ab-7e6991fdfe8a\" class=\"colab-df-container\">\n",
              "    <div>\n",
              "<style scoped>\n",
              "    .dataframe tbody tr th:only-of-type {\n",
              "        vertical-align: middle;\n",
              "    }\n",
              "\n",
              "    .dataframe tbody tr th {\n",
              "        vertical-align: top;\n",
              "    }\n",
              "\n",
              "    .dataframe thead th {\n",
              "        text-align: right;\n",
              "    }\n",
              "</style>\n",
              "<table border=\"1\" class=\"dataframe\">\n",
              "  <thead>\n",
              "    <tr style=\"text-align: right;\">\n",
              "      <th></th>\n",
              "      <th>user_id</th>\n",
              "      <th>timestamp</th>\n",
              "      <th>group</th>\n",
              "      <th>landing_page</th>\n",
              "      <th>converted</th>\n",
              "    </tr>\n",
              "  </thead>\n",
              "  <tbody>\n",
              "    <tr>\n",
              "      <th>0</th>\n",
              "      <td>851104</td>\n",
              "      <td>11:48.6</td>\n",
              "      <td>control</td>\n",
              "      <td>old_page</td>\n",
              "      <td>0</td>\n",
              "    </tr>\n",
              "    <tr>\n",
              "      <th>1</th>\n",
              "      <td>804228</td>\n",
              "      <td>01:45.2</td>\n",
              "      <td>control</td>\n",
              "      <td>old_page</td>\n",
              "      <td>0</td>\n",
              "    </tr>\n",
              "    <tr>\n",
              "      <th>2</th>\n",
              "      <td>661590</td>\n",
              "      <td>55:06.2</td>\n",
              "      <td>treatment</td>\n",
              "      <td>new_page</td>\n",
              "      <td>0</td>\n",
              "    </tr>\n",
              "    <tr>\n",
              "      <th>3</th>\n",
              "      <td>853541</td>\n",
              "      <td>28:03.1</td>\n",
              "      <td>treatment</td>\n",
              "      <td>new_page</td>\n",
              "      <td>0</td>\n",
              "    </tr>\n",
              "    <tr>\n",
              "      <th>4</th>\n",
              "      <td>864975</td>\n",
              "      <td>52:26.2</td>\n",
              "      <td>control</td>\n",
              "      <td>old_page</td>\n",
              "      <td>1</td>\n",
              "    </tr>\n",
              "  </tbody>\n",
              "</table>\n",
              "</div>\n",
              "    <div class=\"colab-df-buttons\">\n",
              "\n",
              "  <div class=\"colab-df-container\">\n",
              "    <button class=\"colab-df-convert\" onclick=\"convertToInteractive('df-3969fba1-0e48-4891-b1ab-7e6991fdfe8a')\"\n",
              "            title=\"Convert this dataframe to an interactive table.\"\n",
              "            style=\"display:none;\">\n",
              "\n",
              "  <svg xmlns=\"http://www.w3.org/2000/svg\" height=\"24px\" viewBox=\"0 -960 960 960\">\n",
              "    <path d=\"M120-120v-720h720v720H120Zm60-500h600v-160H180v160Zm220 220h160v-160H400v160Zm0 220h160v-160H400v160ZM180-400h160v-160H180v160Zm440 0h160v-160H620v160ZM180-180h160v-160H180v160Zm440 0h160v-160H620v160Z\"/>\n",
              "  </svg>\n",
              "    </button>\n",
              "\n",
              "  <style>\n",
              "    .colab-df-container {\n",
              "      display:flex;\n",
              "      gap: 12px;\n",
              "    }\n",
              "\n",
              "    .colab-df-convert {\n",
              "      background-color: #E8F0FE;\n",
              "      border: none;\n",
              "      border-radius: 50%;\n",
              "      cursor: pointer;\n",
              "      display: none;\n",
              "      fill: #1967D2;\n",
              "      height: 32px;\n",
              "      padding: 0 0 0 0;\n",
              "      width: 32px;\n",
              "    }\n",
              "\n",
              "    .colab-df-convert:hover {\n",
              "      background-color: #E2EBFA;\n",
              "      box-shadow: 0px 1px 2px rgba(60, 64, 67, 0.3), 0px 1px 3px 1px rgba(60, 64, 67, 0.15);\n",
              "      fill: #174EA6;\n",
              "    }\n",
              "\n",
              "    .colab-df-buttons div {\n",
              "      margin-bottom: 4px;\n",
              "    }\n",
              "\n",
              "    [theme=dark] .colab-df-convert {\n",
              "      background-color: #3B4455;\n",
              "      fill: #D2E3FC;\n",
              "    }\n",
              "\n",
              "    [theme=dark] .colab-df-convert:hover {\n",
              "      background-color: #434B5C;\n",
              "      box-shadow: 0px 1px 3px 1px rgba(0, 0, 0, 0.15);\n",
              "      filter: drop-shadow(0px 1px 2px rgba(0, 0, 0, 0.3));\n",
              "      fill: #FFFFFF;\n",
              "    }\n",
              "  </style>\n",
              "\n",
              "    <script>\n",
              "      const buttonEl =\n",
              "        document.querySelector('#df-3969fba1-0e48-4891-b1ab-7e6991fdfe8a button.colab-df-convert');\n",
              "      buttonEl.style.display =\n",
              "        google.colab.kernel.accessAllowed ? 'block' : 'none';\n",
              "\n",
              "      async function convertToInteractive(key) {\n",
              "        const element = document.querySelector('#df-3969fba1-0e48-4891-b1ab-7e6991fdfe8a');\n",
              "        const dataTable =\n",
              "          await google.colab.kernel.invokeFunction('convertToInteractive',\n",
              "                                                    [key], {});\n",
              "        if (!dataTable) return;\n",
              "\n",
              "        const docLinkHtml = 'Like what you see? Visit the ' +\n",
              "          '<a target=\"_blank\" href=https://colab.research.google.com/notebooks/data_table.ipynb>data table notebook</a>'\n",
              "          + ' to learn more about interactive tables.';\n",
              "        element.innerHTML = '';\n",
              "        dataTable['output_type'] = 'display_data';\n",
              "        await google.colab.output.renderOutput(dataTable, element);\n",
              "        const docLink = document.createElement('div');\n",
              "        docLink.innerHTML = docLinkHtml;\n",
              "        element.appendChild(docLink);\n",
              "      }\n",
              "    </script>\n",
              "  </div>\n",
              "\n",
              "\n",
              "<div id=\"df-3edf9c6a-8441-4509-a913-e892451f377c\">\n",
              "  <button class=\"colab-df-quickchart\" onclick=\"quickchart('df-3edf9c6a-8441-4509-a913-e892451f377c')\"\n",
              "            title=\"Suggest charts\"\n",
              "            style=\"display:none;\">\n",
              "\n",
              "<svg xmlns=\"http://www.w3.org/2000/svg\" height=\"24px\"viewBox=\"0 0 24 24\"\n",
              "     width=\"24px\">\n",
              "    <g>\n",
              "        <path d=\"M19 3H5c-1.1 0-2 .9-2 2v14c0 1.1.9 2 2 2h14c1.1 0 2-.9 2-2V5c0-1.1-.9-2-2-2zM9 17H7v-7h2v7zm4 0h-2V7h2v10zm4 0h-2v-4h2v4z\"/>\n",
              "    </g>\n",
              "</svg>\n",
              "  </button>\n",
              "\n",
              "<style>\n",
              "  .colab-df-quickchart {\n",
              "      --bg-color: #E8F0FE;\n",
              "      --fill-color: #1967D2;\n",
              "      --hover-bg-color: #E2EBFA;\n",
              "      --hover-fill-color: #174EA6;\n",
              "      --disabled-fill-color: #AAA;\n",
              "      --disabled-bg-color: #DDD;\n",
              "  }\n",
              "\n",
              "  [theme=dark] .colab-df-quickchart {\n",
              "      --bg-color: #3B4455;\n",
              "      --fill-color: #D2E3FC;\n",
              "      --hover-bg-color: #434B5C;\n",
              "      --hover-fill-color: #FFFFFF;\n",
              "      --disabled-bg-color: #3B4455;\n",
              "      --disabled-fill-color: #666;\n",
              "  }\n",
              "\n",
              "  .colab-df-quickchart {\n",
              "    background-color: var(--bg-color);\n",
              "    border: none;\n",
              "    border-radius: 50%;\n",
              "    cursor: pointer;\n",
              "    display: none;\n",
              "    fill: var(--fill-color);\n",
              "    height: 32px;\n",
              "    padding: 0;\n",
              "    width: 32px;\n",
              "  }\n",
              "\n",
              "  .colab-df-quickchart:hover {\n",
              "    background-color: var(--hover-bg-color);\n",
              "    box-shadow: 0 1px 2px rgba(60, 64, 67, 0.3), 0 1px 3px 1px rgba(60, 64, 67, 0.15);\n",
              "    fill: var(--button-hover-fill-color);\n",
              "  }\n",
              "\n",
              "  .colab-df-quickchart-complete:disabled,\n",
              "  .colab-df-quickchart-complete:disabled:hover {\n",
              "    background-color: var(--disabled-bg-color);\n",
              "    fill: var(--disabled-fill-color);\n",
              "    box-shadow: none;\n",
              "  }\n",
              "\n",
              "  .colab-df-spinner {\n",
              "    border: 2px solid var(--fill-color);\n",
              "    border-color: transparent;\n",
              "    border-bottom-color: var(--fill-color);\n",
              "    animation:\n",
              "      spin 1s steps(1) infinite;\n",
              "  }\n",
              "\n",
              "  @keyframes spin {\n",
              "    0% {\n",
              "      border-color: transparent;\n",
              "      border-bottom-color: var(--fill-color);\n",
              "      border-left-color: var(--fill-color);\n",
              "    }\n",
              "    20% {\n",
              "      border-color: transparent;\n",
              "      border-left-color: var(--fill-color);\n",
              "      border-top-color: var(--fill-color);\n",
              "    }\n",
              "    30% {\n",
              "      border-color: transparent;\n",
              "      border-left-color: var(--fill-color);\n",
              "      border-top-color: var(--fill-color);\n",
              "      border-right-color: var(--fill-color);\n",
              "    }\n",
              "    40% {\n",
              "      border-color: transparent;\n",
              "      border-right-color: var(--fill-color);\n",
              "      border-top-color: var(--fill-color);\n",
              "    }\n",
              "    60% {\n",
              "      border-color: transparent;\n",
              "      border-right-color: var(--fill-color);\n",
              "    }\n",
              "    80% {\n",
              "      border-color: transparent;\n",
              "      border-right-color: var(--fill-color);\n",
              "      border-bottom-color: var(--fill-color);\n",
              "    }\n",
              "    90% {\n",
              "      border-color: transparent;\n",
              "      border-bottom-color: var(--fill-color);\n",
              "    }\n",
              "  }\n",
              "</style>\n",
              "\n",
              "  <script>\n",
              "    async function quickchart(key) {\n",
              "      const quickchartButtonEl =\n",
              "        document.querySelector('#' + key + ' button');\n",
              "      quickchartButtonEl.disabled = true;  // To prevent multiple clicks.\n",
              "      quickchartButtonEl.classList.add('colab-df-spinner');\n",
              "      try {\n",
              "        const charts = await google.colab.kernel.invokeFunction(\n",
              "            'suggestCharts', [key], {});\n",
              "      } catch (error) {\n",
              "        console.error('Error during call to suggestCharts:', error);\n",
              "      }\n",
              "      quickchartButtonEl.classList.remove('colab-df-spinner');\n",
              "      quickchartButtonEl.classList.add('colab-df-quickchart-complete');\n",
              "    }\n",
              "    (() => {\n",
              "      let quickchartButtonEl =\n",
              "        document.querySelector('#df-3edf9c6a-8441-4509-a913-e892451f377c button');\n",
              "      quickchartButtonEl.style.display =\n",
              "        google.colab.kernel.accessAllowed ? 'block' : 'none';\n",
              "    })();\n",
              "  </script>\n",
              "</div>\n",
              "\n",
              "    </div>\n",
              "  </div>\n"
            ],
            "application/vnd.google.colaboratory.intrinsic+json": {
              "type": "dataframe",
              "variable_name": "df"
            }
          },
          "metadata": {},
          "execution_count": 21
        }
      ]
    },
    {
      "cell_type": "code",
      "source": [
        "print(\"Countries Dataset Information:\")\n",
        "countries_df.info()\n",
        "print(\"\\nFirst 5 rows of countries data:\")\n",
        "countries_df.head()"
      ],
      "metadata": {
        "colab": {
          "base_uri": "https://localhost:8080/",
          "height": 414
        },
        "id": "Ig7_VVj_xUWe",
        "outputId": "5b9f61a7-d795-49f4-bbfe-4ecbf2cb7144"
      },
      "execution_count": 22,
      "outputs": [
        {
          "output_type": "stream",
          "name": "stdout",
          "text": [
            "Countries Dataset Information:\n",
            "<class 'pandas.core.frame.DataFrame'>\n",
            "RangeIndex: 290586 entries, 0 to 290585\n",
            "Data columns (total 2 columns):\n",
            " #   Column   Non-Null Count   Dtype \n",
            "---  ------   --------------   ----- \n",
            " 0   user_id  290586 non-null  int64 \n",
            " 1   country  290586 non-null  object\n",
            "dtypes: int64(1), object(1)\n",
            "memory usage: 4.4+ MB\n",
            "\n",
            "First 5 rows of countries data:\n"
          ]
        },
        {
          "output_type": "execute_result",
          "data": {
            "text/plain": [
              "   user_id country\n",
              "0   834778      UK\n",
              "1   928468      US\n",
              "2   822059      UK\n",
              "3   711597      UK\n",
              "4   710616      UK"
            ],
            "text/html": [
              "\n",
              "  <div id=\"df-6aa62c44-61f2-4622-94f8-af236d1595a4\" class=\"colab-df-container\">\n",
              "    <div>\n",
              "<style scoped>\n",
              "    .dataframe tbody tr th:only-of-type {\n",
              "        vertical-align: middle;\n",
              "    }\n",
              "\n",
              "    .dataframe tbody tr th {\n",
              "        vertical-align: top;\n",
              "    }\n",
              "\n",
              "    .dataframe thead th {\n",
              "        text-align: right;\n",
              "    }\n",
              "</style>\n",
              "<table border=\"1\" class=\"dataframe\">\n",
              "  <thead>\n",
              "    <tr style=\"text-align: right;\">\n",
              "      <th></th>\n",
              "      <th>user_id</th>\n",
              "      <th>country</th>\n",
              "    </tr>\n",
              "  </thead>\n",
              "  <tbody>\n",
              "    <tr>\n",
              "      <th>0</th>\n",
              "      <td>834778</td>\n",
              "      <td>UK</td>\n",
              "    </tr>\n",
              "    <tr>\n",
              "      <th>1</th>\n",
              "      <td>928468</td>\n",
              "      <td>US</td>\n",
              "    </tr>\n",
              "    <tr>\n",
              "      <th>2</th>\n",
              "      <td>822059</td>\n",
              "      <td>UK</td>\n",
              "    </tr>\n",
              "    <tr>\n",
              "      <th>3</th>\n",
              "      <td>711597</td>\n",
              "      <td>UK</td>\n",
              "    </tr>\n",
              "    <tr>\n",
              "      <th>4</th>\n",
              "      <td>710616</td>\n",
              "      <td>UK</td>\n",
              "    </tr>\n",
              "  </tbody>\n",
              "</table>\n",
              "</div>\n",
              "    <div class=\"colab-df-buttons\">\n",
              "\n",
              "  <div class=\"colab-df-container\">\n",
              "    <button class=\"colab-df-convert\" onclick=\"convertToInteractive('df-6aa62c44-61f2-4622-94f8-af236d1595a4')\"\n",
              "            title=\"Convert this dataframe to an interactive table.\"\n",
              "            style=\"display:none;\">\n",
              "\n",
              "  <svg xmlns=\"http://www.w3.org/2000/svg\" height=\"24px\" viewBox=\"0 -960 960 960\">\n",
              "    <path d=\"M120-120v-720h720v720H120Zm60-500h600v-160H180v160Zm220 220h160v-160H400v160Zm0 220h160v-160H400v160ZM180-400h160v-160H180v160Zm440 0h160v-160H620v160ZM180-180h160v-160H180v160Zm440 0h160v-160H620v160Z\"/>\n",
              "  </svg>\n",
              "    </button>\n",
              "\n",
              "  <style>\n",
              "    .colab-df-container {\n",
              "      display:flex;\n",
              "      gap: 12px;\n",
              "    }\n",
              "\n",
              "    .colab-df-convert {\n",
              "      background-color: #E8F0FE;\n",
              "      border: none;\n",
              "      border-radius: 50%;\n",
              "      cursor: pointer;\n",
              "      display: none;\n",
              "      fill: #1967D2;\n",
              "      height: 32px;\n",
              "      padding: 0 0 0 0;\n",
              "      width: 32px;\n",
              "    }\n",
              "\n",
              "    .colab-df-convert:hover {\n",
              "      background-color: #E2EBFA;\n",
              "      box-shadow: 0px 1px 2px rgba(60, 64, 67, 0.3), 0px 1px 3px 1px rgba(60, 64, 67, 0.15);\n",
              "      fill: #174EA6;\n",
              "    }\n",
              "\n",
              "    .colab-df-buttons div {\n",
              "      margin-bottom: 4px;\n",
              "    }\n",
              "\n",
              "    [theme=dark] .colab-df-convert {\n",
              "      background-color: #3B4455;\n",
              "      fill: #D2E3FC;\n",
              "    }\n",
              "\n",
              "    [theme=dark] .colab-df-convert:hover {\n",
              "      background-color: #434B5C;\n",
              "      box-shadow: 0px 1px 3px 1px rgba(0, 0, 0, 0.15);\n",
              "      filter: drop-shadow(0px 1px 2px rgba(0, 0, 0, 0.3));\n",
              "      fill: #FFFFFF;\n",
              "    }\n",
              "  </style>\n",
              "\n",
              "    <script>\n",
              "      const buttonEl =\n",
              "        document.querySelector('#df-6aa62c44-61f2-4622-94f8-af236d1595a4 button.colab-df-convert');\n",
              "      buttonEl.style.display =\n",
              "        google.colab.kernel.accessAllowed ? 'block' : 'none';\n",
              "\n",
              "      async function convertToInteractive(key) {\n",
              "        const element = document.querySelector('#df-6aa62c44-61f2-4622-94f8-af236d1595a4');\n",
              "        const dataTable =\n",
              "          await google.colab.kernel.invokeFunction('convertToInteractive',\n",
              "                                                    [key], {});\n",
              "        if (!dataTable) return;\n",
              "\n",
              "        const docLinkHtml = 'Like what you see? Visit the ' +\n",
              "          '<a target=\"_blank\" href=https://colab.research.google.com/notebooks/data_table.ipynb>data table notebook</a>'\n",
              "          + ' to learn more about interactive tables.';\n",
              "        element.innerHTML = '';\n",
              "        dataTable['output_type'] = 'display_data';\n",
              "        await google.colab.output.renderOutput(dataTable, element);\n",
              "        const docLink = document.createElement('div');\n",
              "        docLink.innerHTML = docLinkHtml;\n",
              "        element.appendChild(docLink);\n",
              "      }\n",
              "    </script>\n",
              "  </div>\n",
              "\n",
              "\n",
              "<div id=\"df-ce98fbbd-9045-4bde-9c88-d1cce442ef82\">\n",
              "  <button class=\"colab-df-quickchart\" onclick=\"quickchart('df-ce98fbbd-9045-4bde-9c88-d1cce442ef82')\"\n",
              "            title=\"Suggest charts\"\n",
              "            style=\"display:none;\">\n",
              "\n",
              "<svg xmlns=\"http://www.w3.org/2000/svg\" height=\"24px\"viewBox=\"0 0 24 24\"\n",
              "     width=\"24px\">\n",
              "    <g>\n",
              "        <path d=\"M19 3H5c-1.1 0-2 .9-2 2v14c0 1.1.9 2 2 2h14c1.1 0 2-.9 2-2V5c0-1.1-.9-2-2-2zM9 17H7v-7h2v7zm4 0h-2V7h2v10zm4 0h-2v-4h2v4z\"/>\n",
              "    </g>\n",
              "</svg>\n",
              "  </button>\n",
              "\n",
              "<style>\n",
              "  .colab-df-quickchart {\n",
              "      --bg-color: #E8F0FE;\n",
              "      --fill-color: #1967D2;\n",
              "      --hover-bg-color: #E2EBFA;\n",
              "      --hover-fill-color: #174EA6;\n",
              "      --disabled-fill-color: #AAA;\n",
              "      --disabled-bg-color: #DDD;\n",
              "  }\n",
              "\n",
              "  [theme=dark] .colab-df-quickchart {\n",
              "      --bg-color: #3B4455;\n",
              "      --fill-color: #D2E3FC;\n",
              "      --hover-bg-color: #434B5C;\n",
              "      --hover-fill-color: #FFFFFF;\n",
              "      --disabled-bg-color: #3B4455;\n",
              "      --disabled-fill-color: #666;\n",
              "  }\n",
              "\n",
              "  .colab-df-quickchart {\n",
              "    background-color: var(--bg-color);\n",
              "    border: none;\n",
              "    border-radius: 50%;\n",
              "    cursor: pointer;\n",
              "    display: none;\n",
              "    fill: var(--fill-color);\n",
              "    height: 32px;\n",
              "    padding: 0;\n",
              "    width: 32px;\n",
              "  }\n",
              "\n",
              "  .colab-df-quickchart:hover {\n",
              "    background-color: var(--hover-bg-color);\n",
              "    box-shadow: 0 1px 2px rgba(60, 64, 67, 0.3), 0 1px 3px 1px rgba(60, 64, 67, 0.15);\n",
              "    fill: var(--button-hover-fill-color);\n",
              "  }\n",
              "\n",
              "  .colab-df-quickchart-complete:disabled,\n",
              "  .colab-df-quickchart-complete:disabled:hover {\n",
              "    background-color: var(--disabled-bg-color);\n",
              "    fill: var(--disabled-fill-color);\n",
              "    box-shadow: none;\n",
              "  }\n",
              "\n",
              "  .colab-df-spinner {\n",
              "    border: 2px solid var(--fill-color);\n",
              "    border-color: transparent;\n",
              "    border-bottom-color: var(--fill-color);\n",
              "    animation:\n",
              "      spin 1s steps(1) infinite;\n",
              "  }\n",
              "\n",
              "  @keyframes spin {\n",
              "    0% {\n",
              "      border-color: transparent;\n",
              "      border-bottom-color: var(--fill-color);\n",
              "      border-left-color: var(--fill-color);\n",
              "    }\n",
              "    20% {\n",
              "      border-color: transparent;\n",
              "      border-left-color: var(--fill-color);\n",
              "      border-top-color: var(--fill-color);\n",
              "    }\n",
              "    30% {\n",
              "      border-color: transparent;\n",
              "      border-left-color: var(--fill-color);\n",
              "      border-top-color: var(--fill-color);\n",
              "      border-right-color: var(--fill-color);\n",
              "    }\n",
              "    40% {\n",
              "      border-color: transparent;\n",
              "      border-right-color: var(--fill-color);\n",
              "      border-top-color: var(--fill-color);\n",
              "    }\n",
              "    60% {\n",
              "      border-color: transparent;\n",
              "      border-right-color: var(--fill-color);\n",
              "    }\n",
              "    80% {\n",
              "      border-color: transparent;\n",
              "      border-right-color: var(--fill-color);\n",
              "      border-bottom-color: var(--fill-color);\n",
              "    }\n",
              "    90% {\n",
              "      border-color: transparent;\n",
              "      border-bottom-color: var(--fill-color);\n",
              "    }\n",
              "  }\n",
              "</style>\n",
              "\n",
              "  <script>\n",
              "    async function quickchart(key) {\n",
              "      const quickchartButtonEl =\n",
              "        document.querySelector('#' + key + ' button');\n",
              "      quickchartButtonEl.disabled = true;  // To prevent multiple clicks.\n",
              "      quickchartButtonEl.classList.add('colab-df-spinner');\n",
              "      try {\n",
              "        const charts = await google.colab.kernel.invokeFunction(\n",
              "            'suggestCharts', [key], {});\n",
              "      } catch (error) {\n",
              "        console.error('Error during call to suggestCharts:', error);\n",
              "      }\n",
              "      quickchartButtonEl.classList.remove('colab-df-spinner');\n",
              "      quickchartButtonEl.classList.add('colab-df-quickchart-complete');\n",
              "    }\n",
              "    (() => {\n",
              "      let quickchartButtonEl =\n",
              "        document.querySelector('#df-ce98fbbd-9045-4bde-9c88-d1cce442ef82 button');\n",
              "      quickchartButtonEl.style.display =\n",
              "        google.colab.kernel.accessAllowed ? 'block' : 'none';\n",
              "    })();\n",
              "  </script>\n",
              "</div>\n",
              "\n",
              "    </div>\n",
              "  </div>\n"
            ],
            "application/vnd.google.colaboratory.intrinsic+json": {
              "type": "dataframe",
              "variable_name": "countries_df"
            }
          },
          "metadata": {},
          "execution_count": 22
        }
      ]
    },
    {
      "cell_type": "markdown",
      "source": [
        "We're working with two datasets for our analysis:\n",
        "\n",
        "1. **A/B Testing Dataset**: Contains 294,480 rows of user interactions with the website, including:\n",
        "   - `user_id`: Unique identifier for each website visitor\n",
        "   - `timestamp`: When the user visited the site\n",
        "   - `group`: Whether the user was in the \"control\" group (saw old page) or \"treatment\" group (saw new page)\n",
        "   - `landing_page`: Which page version they actually saw (old_page or new_page)\n",
        "   - `converted`: Whether they made a purchase (1) or not (0)\n",
        "\n",
        "2. **Countries Dataset**: Contains 290,586 rows showing which country each user is from:\n",
        "   - `user_id`: Matches with the A/B testing dataset\n",
        "   - `country`: User's location (UK, US, or CA)\n"
      ],
      "metadata": {
        "id": "O6M4e55cR7Eu"
      }
    },
    {
      "cell_type": "markdown",
      "source": [
        "# Data Cleaning"
      ],
      "metadata": {
        "id": "k-Az6IPRptvk"
      }
    },
    {
      "cell_type": "markdown",
      "source": [
        "## Checking Data Quality\n",
        "\n",
        "Performing data quality checks to identify potential issues that could skew our results. We're specifically looking for missing values, duplicate entries, and confirming which countries are represented in our data. Data quality issues caught early prevent misleading conclusions later."
      ],
      "metadata": {
        "id": "k7KVVSzNkods"
      }
    },
    {
      "cell_type": "code",
      "source": [
        "# Check for missing values\n",
        "print(\"Missing values in A/B testing data:\")\n",
        "print(df.isnull().sum())\n",
        "print(\"\\nMissing values in countries data:\")\n",
        "print(countries_df.isnull().sum())\n",
        "\n",
        "# Check for duplicates\n",
        "print(f\"\\nDuplicate rows in A/B testing data: {df.duplicated().sum()}\")\n",
        "print(f\"Duplicate user_ids in A/B testing data: {df.duplicated(subset=['user_id']).sum()}\")\n",
        "print(f\"Duplicate rows in countries data: {countries_df.duplicated().sum()}\")\n",
        "print(f\"Duplicate user_ids in countries data: {countries_df.duplicated(subset=['user_id']).sum()}\")\n",
        "\n",
        "# Get unique countries\n",
        "print(\"\\nUnique countries in the countries dataset:\")\n",
        "print(countries_df['country'].unique())\n",
        "print(f\"Number of countries: {countries_df['country'].nunique()}\")"
      ],
      "metadata": {
        "colab": {
          "base_uri": "https://localhost:8080/"
        },
        "id": "B4fP8KcAqP9-",
        "outputId": "1cc3a4e6-b1af-4b2b-80c8-e785b0477977"
      },
      "execution_count": 23,
      "outputs": [
        {
          "output_type": "stream",
          "name": "stdout",
          "text": [
            "Missing values in A/B testing data:\n",
            "user_id         0\n",
            "timestamp       0\n",
            "group           0\n",
            "landing_page    0\n",
            "converted       0\n",
            "dtype: int64\n",
            "\n",
            "Missing values in countries data:\n",
            "user_id    0\n",
            "country    0\n",
            "dtype: int64\n",
            "\n",
            "Duplicate rows in A/B testing data: 0\n",
            "Duplicate user_ids in A/B testing data: 3895\n",
            "Duplicate rows in countries data: 1\n",
            "Duplicate user_ids in countries data: 1\n",
            "\n",
            "Unique countries in the countries dataset:\n",
            "['UK' 'US' 'CA']\n",
            "Number of countries: 3\n"
          ]
        }
      ]
    },
    {
      "cell_type": "markdown",
      "source": [
        "Before jumping into analysis, we need to verify our data is clean and reliable:\n",
        "\n",
        "- **No missing values**: All fields are complete in both datasets\n",
        "- **Duplicate checks**:\n",
        "  - 3,895 users appear multiple times in the A/B testing data\n",
        "  - 1 user appears multiple times in the countries data\n",
        "- **Countries represented**: Our data comes from three countries: UK, US, and CA (Canada)\n"
      ],
      "metadata": {
        "id": "GUwMCO2EVzK8"
      }
    },
    {
      "cell_type": "markdown",
      "source": [
        "## Ensuring Test Integrity\n",
        "\n",
        "Verifying the integrity of our test setup by ensuring users in the control group saw the old page and users in the treatment group saw the new page."
      ],
      "metadata": {
        "id": "6LuNVXuqsEaD"
      }
    },
    {
      "cell_type": "code",
      "source": [
        "# Check if users are assigned to the correct landing page based on their group\n",
        "print(\"Checking page-group consistency:\")\n",
        "page_group_consistency = df.groupby(['group', 'landing_page']).size().reset_index(name='count')\n",
        "print(page_group_consistency)\n",
        "\n",
        "# Identify and fix inconsistencies (if any)\n",
        "control_with_new = df[(df['group'] == 'control') & (df['landing_page'] == 'new_page')].shape[0]\n",
        "treatment_with_old = df[(df['group'] == 'treatment') & (df['landing_page'] == 'old_page')].shape[0]\n",
        "\n",
        "print(f\"\\nInconsistencies found:\")\n",
        "print(f\"Control group with new page: {control_with_new}\")\n",
        "print(f\"Treatment group with old page: {treatment_with_old}\")"
      ],
      "metadata": {
        "colab": {
          "base_uri": "https://localhost:8080/"
        },
        "id": "Kiu1y685qT2e",
        "outputId": "6b7755fc-bf3a-4f0f-ba6e-dcae4ca7efb0"
      },
      "execution_count": 24,
      "outputs": [
        {
          "output_type": "stream",
          "name": "stdout",
          "text": [
            "Checking page-group consistency:\n",
            "       group landing_page   count\n",
            "0    control     new_page    1928\n",
            "1    control     old_page  145274\n",
            "2  treatment     new_page  145313\n",
            "3  treatment     old_page    1965\n",
            "\n",
            "Inconsistencies found:\n",
            "Control group with new page: 1928\n",
            "Treatment group with old page: 1965\n"
          ]
        }
      ]
    },
    {
      "cell_type": "markdown",
      "source": [
        "We discovered some inconsistencies in our test data:\n",
        "- 1,928 users in the control group incorrectly saw the new page\n",
        "- 1,965 users in the treatment group incorrectly saw the old page"
      ],
      "metadata": {
        "id": "yeX9UX7YWA1l"
      }
    },
    {
      "cell_type": "code",
      "source": [
        "if control_with_new > 0 or treatment_with_old > 0:\n",
        "    print(\"Fixing inconsistencies...\")\n",
        "    # Keep only rows where page and group align correctly\n",
        "    df = df[((df['group'] == 'control') & (df['landing_page'] == 'old_page')) |\n",
        "            ((df['group'] == 'treatment') & (df['landing_page'] == 'new_page'))]\n",
        "    print(f\"Remaining rows after cleaning: {df.shape[0]}\")"
      ],
      "metadata": {
        "colab": {
          "base_uri": "https://localhost:8080/"
        },
        "id": "iOQufhCrsNLo",
        "outputId": "ec20f65b-ef0c-4426-cd64-a37f5ffed927"
      },
      "execution_count": 25,
      "outputs": [
        {
          "output_type": "stream",
          "name": "stdout",
          "text": [
            "Fixing inconsistencies...\n",
            "Remaining rows after cleaning: 290587\n"
          ]
        }
      ]
    },
    {
      "cell_type": "markdown",
      "source": [
        "We removed these inconsistent records to ensure we're only measuring the true effect of each page version, leaving us with 290,587 valid records."
      ],
      "metadata": {
        "id": "LuRW1h6EWGD3"
      }
    },
    {
      "cell_type": "markdown",
      "source": [
        "## Preventing User Duplication\n",
        "\n",
        "Identifying users who appear in both test groups, which could contaminate our results. A valid A/B test requires each user to be in exactly one test group."
      ],
      "metadata": {
        "id": "TFIRcO9Yllmi"
      }
    },
    {
      "cell_type": "code",
      "source": [
        "# Check if users appear in multiple groups (should be in only one group)\n",
        "print(\"Checking if users appear in multiple groups:\")\n",
        "user_groups = df.groupby('user_id')['group'].nunique()\n",
        "multi_group_users = user_groups[user_groups > 1].count()\n",
        "print(f\"Users appearing in multiple groups: {multi_group_users}\")\n",
        "\n",
        "if multi_group_users > 0:\n",
        "    print(\"Fixing multiple group assignments...\")\n",
        "    # Identify users in multiple groups\n",
        "    users_in_multiple_groups = user_groups[user_groups > 1].index.tolist()\n",
        "    print(f\"Sample of affected users: {users_in_multiple_groups[:5] if len(users_in_multiple_groups) > 5 else users_in_multiple_groups}\")\n",
        "\n",
        "    # For users in multiple groups, keep their first appearance\n",
        "    df = df.sort_values('timestamp').drop_duplicates(subset='user_id', keep='first')\n",
        "    print(f\"Dataset size after removing duplicates: {df.shape[0]}\")"
      ],
      "metadata": {
        "colab": {
          "base_uri": "https://localhost:8080/"
        },
        "id": "-Vw3GYkrsUgQ",
        "outputId": "afd8085e-f8a8-4e1b-b86e-c96eff21f735"
      },
      "execution_count": 26,
      "outputs": [
        {
          "output_type": "stream",
          "name": "stdout",
          "text": [
            "Checking if users appear in multiple groups:\n",
            "Users appearing in multiple groups: 0\n"
          ]
        }
      ]
    },
    {
      "cell_type": "markdown",
      "source": [
        "After cleaning the inconsistent page-group assignments, we verified that no users appear in both test groups simultaneously."
      ],
      "metadata": {
        "id": "ql2ujik7WMRu"
      }
    },
    {
      "cell_type": "markdown",
      "source": [
        "## Combining Datasets\n",
        "\n",
        " Combining our A/B test data with country information to enable geographic analysis."
      ],
      "metadata": {
        "id": "D3lerLMVl7eb"
      }
    },
    {
      "cell_type": "code",
      "source": [
        "# Merge datasets\n",
        "df_merged = df.merge(countries_df, on='user_id', how='left')\n",
        "print(\"Merged dataset preview:\")\n",
        "print(df_merged.head())"
      ],
      "metadata": {
        "colab": {
          "base_uri": "https://localhost:8080/"
        },
        "id": "8y01M5Qvssbp",
        "outputId": "43c6b008-25f5-4f0d-f1d9-a3f0a5b5fda3"
      },
      "execution_count": 27,
      "outputs": [
        {
          "output_type": "stream",
          "name": "stdout",
          "text": [
            "Merged dataset preview:\n",
            "   user_id timestamp      group landing_page  converted country\n",
            "0   851104   11:48.6    control     old_page          0      US\n",
            "1   804228   01:45.2    control     old_page          0      US\n",
            "2   661590   55:06.2  treatment     new_page          0      US\n",
            "3   853541   28:03.1  treatment     new_page          0      US\n",
            "4   864975   52:26.2    control     old_page          1      US\n"
          ]
        }
      ]
    },
    {
      "cell_type": "markdown",
      "source": [
        "We successfully combined our test data with country information. Every user in our cleaned dataset has a corresponding country (US, UK, or CA)."
      ],
      "metadata": {
        "id": "b0o90mG1WW2s"
      }
    },
    {
      "cell_type": "markdown",
      "source": [
        "We're also checking for and handling records where country information is missing. This enables us to analyze whether the new page performs differently across different markets."
      ],
      "metadata": {
        "id": "gLSGiUeBmErQ"
      }
    },
    {
      "cell_type": "code",
      "source": [
        "# Check for missing countries after merge\n",
        "missing_countries = df_merged['country'].isnull().sum()\n",
        "print(f\"Rows with missing country information: {missing_countries}\")\n",
        "\n",
        "if missing_countries > 0:\n",
        "    print(\"Handling missing country data...\")\n",
        "    # Fill missing countries or drop rows based on business requirements\n",
        "    # For this analysis, we'll drop rows with missing country data\n",
        "    df_merged = df_merged.dropna(subset=['country'])\n",
        "    print(f\"Dataset size after handling missing countries: {df_merged.shape[0]}\")"
      ],
      "metadata": {
        "colab": {
          "base_uri": "https://localhost:8080/"
        },
        "id": "dIj5BOWKsW03",
        "outputId": "ab0a4d09-86a9-4aca-c8b9-8cde01204693"
      },
      "execution_count": 28,
      "outputs": [
        {
          "output_type": "stream",
          "name": "stdout",
          "text": [
            "Rows with missing country information: 0\n"
          ]
        }
      ]
    },
    {
      "cell_type": "markdown",
      "source": [
        "# Exploratory Data Analysis"
      ],
      "metadata": {
        "id": "p93CMpIAp44p"
      }
    },
    {
      "cell_type": "markdown",
      "source": [
        "## Understanding Overall Conversion Patterns\n",
        "\n",
        "Calculating baseline conversion metrics to understand both overall performance and key differences between test groups and countries. This establishes the foundation for our statistical analysis by showing the raw differences in conversion rates that we'll later test for significance."
      ],
      "metadata": {
        "id": "9idyxuB2sxwA"
      }
    },
    {
      "cell_type": "code",
      "source": [
        "# Overall conversion rates\n",
        "print(\"Overall Conversion Analysis\")\n",
        "conversion_rate = df_merged['converted'].mean() * 100\n",
        "print(f\"Overall conversion rate: {conversion_rate:.2f}%\")\n",
        "\n",
        "# Conversion by group\n",
        "group_conversion = df_merged.groupby('group')['converted'].agg(['count', 'mean'])\n",
        "group_conversion['mean'] = group_conversion['mean'] * 100\n",
        "print(\"\\nConversion rates by group:\")\n",
        "print(group_conversion)\n",
        "\n",
        "# Conversion by country\n",
        "country_conversion = df_merged.groupby('country')['converted'].agg(['count', 'mean'])\n",
        "country_conversion['mean'] = country_conversion['mean'] * 100\n",
        "print(\"\\nConversion rates by country:\")\n",
        "print(country_conversion)\n",
        "\n",
        "# Conversion by group and country\n",
        "group_country_conversion = df_merged.groupby(['group', 'country'])['converted'].agg(['count', 'mean'])\n",
        "group_country_conversion['mean'] = group_country_conversion['mean'] * 100\n",
        "print(\"\\nConversion rates by group and country:\")\n",
        "print(group_country_conversion)"
      ],
      "metadata": {
        "colab": {
          "base_uri": "https://localhost:8080/"
        },
        "id": "vCPyNb-fqY-e",
        "outputId": "d135a34f-41ae-4f4c-fed4-b21c9fc5dbf5"
      },
      "execution_count": 29,
      "outputs": [
        {
          "output_type": "stream",
          "name": "stdout",
          "text": [
            "Overall Conversion Analysis\n",
            "Overall conversion rate: 11.96%\n",
            "\n",
            "Conversion rates by group:\n",
            "            count       mean\n",
            "group                       \n",
            "control    145274  12.038630\n",
            "treatment  145315  11.880398\n",
            "\n",
            "Conversion rates by country:\n",
            "          count       mean\n",
            "country                   \n",
            "CA        14499  11.531830\n",
            "UK        72466  12.059449\n",
            "US       203624  11.954387\n",
            "\n",
            "Conversion rates by group and country:\n",
            "                    count       mean\n",
            "group     country                   \n",
            "control   CA         7198  11.878300\n",
            "          UK        36360  12.002200\n",
            "          US       101716  12.062999\n",
            "treatment CA         7301  11.190248\n",
            "          UK        36106  12.117100\n",
            "          US       101908  11.845979\n"
          ]
        }
      ]
    },
    {
      "cell_type": "markdown",
      "source": [
        "Our initial data exploration reveals several key insights:\n",
        "\n",
        "- **Overall conversion rate**: 11.96% of all users made a purchase\n",
        "- **Group performance**:\n",
        "  - Control group (old page): 12.04% conversion rate\n",
        "  - Treatment group (new page): 11.88% conversion rate\n",
        "  - Difference: The new page performed slightly worse (-0.16 percentage points, or -1.31%)\n",
        "- **Country differences**:\n",
        "  - UK has the highest conversion rate (12.06%)\n",
        "  - US is in the middle (11.95%)\n",
        "  - Canada has the lowest (11.53%)\n",
        "- **Group × Country**:\n",
        "  - In the UK, the new page performed slightly better (+0.11%)\n",
        "  - In the US and Canada, the new page performed worse (-0.22% and -0.69% respectively)"
      ],
      "metadata": {
        "id": "xYi1CaFGWj_b"
      }
    },
    {
      "cell_type": "markdown",
      "source": [
        "## Visualizing Key Metrics"
      ],
      "metadata": {
        "id": "X5x7Qv2Uma7U"
      }
    },
    {
      "cell_type": "code",
      "source": [
        "# Conversion by Group\n",
        "plt.figure(figsize=(8, 6))\n",
        "plt.subplot(1, 2, 1)\n",
        "ax1 = sns.barplot(x='group', y='converted', data=df_merged, palette=palette, errorbar=None, hue='group', legend=False)\n",
        "plt.title('Conversion Rate by Group', fontsize=14, pad=20)\n",
        "plt.ylabel('Conversion Rate', fontsize=12)\n",
        "plt.ylim(0, 0.15)\n",
        "plt.grid(True, linestyle='--', alpha=0.7)\n",
        "\n",
        "# Add value labels\n",
        "for p in ax1.patches:\n",
        "    value = p.get_height()\n",
        "    ax1.annotate(f'{value:.1%}',\n",
        "                 (p.get_x() + p.get_width()/2., p.get_height()),\n",
        "                 ha='center', va='bottom',\n",
        "                 fontsize=11, color='black',\n",
        "                 xytext=(0, 3), textcoords='offset points')\n",
        "\n",
        "# Format y-axis as percentage\n",
        "ax1.yaxis.set_major_formatter(mticker.PercentFormatter(1))"
      ],
      "metadata": {
        "colab": {
          "base_uri": "https://localhost:8080/",
          "height": 593
        },
        "id": "QWdbOlvAs2zC",
        "outputId": "9c50b240-f25c-481a-9a4f-10bf7f2ed52e"
      },
      "execution_count": 49,
      "outputs": [
        {
          "output_type": "display_data",
          "data": {
            "text/plain": [
              "<Figure size 800x600 with 1 Axes>"
            ],
            "image/png": "[encoded data removed]"
          },
          "metadata": {}
        }
      ]
    },
    {
      "cell_type": "markdown",
      "source": [
        "The control group has a slightly higher conversion rate (12.0%) compared to the treatment group (11.9%), indicating that the new page did not lead to a significant improvement in conversions. The small difference suggests that further refinement of the new page design may be necessary."
      ],
      "metadata": {
        "id": "JVHJimNlDcq6"
      }
    },
    {
      "cell_type": "code",
      "source": [
        "# Conversion by Country\n",
        "plt.figure(figsize=(8, 6))\n",
        "plt.subplot(1, 2, 2)\n",
        "ax2 = sns.barplot(x='country', y='converted', data=df_merged, palette=palette, errorbar=None, hue='country', legend=False)\n",
        "plt.title('Conversion Rate by Country', fontsize=14, pad=20)\n",
        "plt.ylabel('Conversion Rate', fontsize=12)\n",
        "plt.ylim(0, 0.15)\n",
        "plt.grid(True, linestyle='--', alpha=0.7)\n",
        "\n",
        "# Add value labels\n",
        "for p in ax2.patches:\n",
        "    value = p.get_height()\n",
        "    ax2.annotate(f'{value:.1%}',\n",
        "                 (p.get_x() + p.get_width()/2., p.get_height()),\n",
        "                 ha='center', va='bottom',\n",
        "                 fontsize=11, color='black',\n",
        "                 xytext=(0, 3), textcoords='offset points')\n",
        "\n",
        "# Format y-axis as percentage\n",
        "ax2.yaxis.set_major_formatter(mticker.PercentFormatter(1))\n",
        "plt.tight_layout()\n",
        "plt.show()"
      ],
      "metadata": {
        "colab": {
          "base_uri": "https://localhost:8080/",
          "height": 600
        },
        "id": "Owe3SFWMyt2M",
        "outputId": "092fea71-c658-42fc-9621-9e54adebb9d7"
      },
      "execution_count": 48,
      "outputs": [
        {
          "output_type": "display_data",
          "data": {
            "text/plain": [
              "<Figure size 800x600 with 1 Axes>"
            ],
            "image/png": "[encoded data removed]"
          },
          "metadata": {}
        }
      ]
    },
    {
      "cell_type": "markdown",
      "source": [
        "Conversion rates vary slightly across countries, with the UK showing the highest rate at 12.1%, followed by the US at 12.0%, and Canada at 11.5%. This indicates that user behavior and preferences may differ by region, warranting country-specific analysis."
      ],
      "metadata": {
        "id": "fIzWcuc6DgYh"
      }
    },
    {
      "cell_type": "code",
      "source": [
        "# Create figure for combined group and country analysis\n",
        "plt.figure(figsize=(8, 6))\n",
        "ax3 = sns.barplot(x='country', y='converted', hue='group', data=df_merged, palette=palette, errorbar=None)\n",
        "plt.title('Conversion Rate by Group and Country', fontsize=14, pad=20)\n",
        "plt.ylabel('Conversion Rate', fontsize=12)\n",
        "plt.ylim(0, 0.15)\n",
        "plt.grid(True, linestyle='--', alpha=0.7)\n",
        "plt.legend(title='Group', title_fontsize=11)\n",
        "\n",
        "# Add value labels\n",
        "for p in ax3.patches:\n",
        "    value = p.get_height()\n",
        "    ax3.annotate(f'{value:.1%}',\n",
        "                 (p.get_x() + p.get_width()/2., p.get_height()),\n",
        "                 ha='center', va='bottom',\n",
        "                 fontsize=10, color='black',\n",
        "                 xytext=(0, 3), textcoords='offset points')\n",
        "\n",
        "# Format y-axis as percentage\n",
        "ax3.yaxis.set_major_formatter(mticker.PercentFormatter(1))\n",
        "plt.tight_layout()\n",
        "plt.show()"
      ],
      "metadata": {
        "colab": {
          "base_uri": "https://localhost:8080/",
          "height": 600
        },
        "id": "xZQZQk-3yvf0",
        "outputId": "48bc3a74-6703-4a68-882e-49acae61e5a2"
      },
      "execution_count": 47,
      "outputs": [
        {
          "output_type": "display_data",
          "data": {
            "text/plain": [
              "<Figure size 800x600 with 1 Axes>"
            ],
            "image/png": "[encoded data removed]"
          },
          "metadata": {}
        }
      ]
    },
    {
      "cell_type": "markdown",
      "source": [
        "In all three countries, the control group consistently shows a higher or equal conversion rate compared to the treatment group. For instance, in the US, the control group's rate is 12.1% versus 11.8% for the treatment group, suggesting that the new page's impact does not significantly vary by country. This reinforces the need to refine the new page design before full implementation."
      ],
      "metadata": {
        "id": "v2kDFG6_Dj4U"
      }
    },
    {
      "cell_type": "markdown",
      "source": [
        "# Hypothesis Testing"
      ],
      "metadata": {
        "id": "cr5nKIhEn8Ps"
      }
    },
    {
      "cell_type": "markdown",
      "source": [
        "## Testing Primary Hypothesis\n",
        "\n",
        "Conducting our primary statistical test to determine if the new page truly outperforms the old page. We're using a one-tailed z-test for proportions, which is the standard approach for conversion rate testing. This tells us whether the observed difference in conversion rates is statistically significant or could have occurred by random chance."
      ],
      "metadata": {
        "id": "RjXI-TvwwsSz"
      }
    },
    {
      "cell_type": "markdown",
      "source": [
        "Hypothesis 1: Is the new page (treatment) better than the old page (control)?\n",
        "\n",
        "H0: The new page has the same or worse conversion rate than the old page\n",
        "\n",
        "H1: The new page has a better conversion rate than the old page"
      ],
      "metadata": {
        "id": "Z_hNjPPMnf7a"
      }
    },
    {
      "cell_type": "code",
      "source": [
        "# Extract conversion data for control and treatment\n",
        "control_data = df_merged[df_merged['group'] == 'control']['converted']\n",
        "treatment_data = df_merged[df_merged['group'] == 'treatment']['converted']\n",
        "\n",
        "# Perform two-proportion z-test\n",
        "count_control = len(control_data)\n",
        "count_treatment = len(treatment_data)\n",
        "successes_control = control_data.sum()\n",
        "successes_treatment = treatment_data.sum()\n",
        "\n",
        "z_stat, p_value = proportions_ztest(\n",
        "    count=[successes_treatment, successes_control],\n",
        "    nobs=[count_treatment, count_control],\n",
        "    alternative='larger'  # Treatment > Control (one-tailed test)\n",
        ")\n",
        "\n",
        "print(f\"Z-statistic: {z_stat:.4f}\")\n",
        "print(f\"P-value: {p_value:.4f}\")\n",
        "print(f\"Is the new page significantly better (α=0.05)? {'Yes' if p_value < 0.05 else 'No'}\")"
      ],
      "metadata": {
        "colab": {
          "base_uri": "https://localhost:8080/"
        },
        "id": "cgqc92-DtCP8",
        "outputId": "d9aa48a4-cb91-4993-d0be-b9917930c48e"
      },
      "execution_count": 33,
      "outputs": [
        {
          "output_type": "stream",
          "name": "stdout",
          "text": [
            "Z-statistic: -1.3143\n",
            "P-value: 0.9056\n",
            "Is the new page significantly better (α=0.05)? No\n"
          ]
        }
      ]
    },
    {
      "cell_type": "markdown",
      "source": [
        "**Results**:\n",
        "  - Z-statistic: -1.31 (negative indicates the treatment performed worse)\n",
        "  - P-value: 0.91 (very high, far above our 0.05 threshold)\n",
        "\n",
        "With a high p-value of 0.91, we cannot reject the null hypothesis. This means we have no statistical evidence that the new page is better than the old page. In fact, the negative Z-statistic suggests the new page might perform slightly worse, though this difference isn't statistically significant either."
      ],
      "metadata": {
        "id": "rcUSJimpYcci"
      }
    },
    {
      "cell_type": "markdown",
      "source": [
        "## Exploring Country Differences\n",
        "\n",
        "Testing whether conversion rates significantly differ between countries, regardless of which page version was shown. This helps us understand if user behavior naturally varies by geography. We're using a chi-square test, which is appropriate for comparing proportions across multiple groups.\n",
        "\n",
        "\n",
        "Hypothesis 2: Does conversion rate differ by country?\n",
        "\n",
        "H0: Conversion rates are the same across all countries\n",
        "\n",
        "H1: Conversion rates differ by country"
      ],
      "metadata": {
        "id": "4NltrYOjnnm3"
      }
    },
    {
      "cell_type": "code",
      "source": [
        "# Perform chi-square test for country effect\n",
        "contingency_table = pd.crosstab(df_merged['country'], df_merged['converted'])\n",
        "chi2, p_value_country, dof, expected = stats.chi2_contingency(contingency_table)\n",
        "\n",
        "print(f\"Chi-square statistic: {chi2:.4f}\")\n",
        "print(f\"P-value: {p_value_country:.4f}\")\n",
        "print(f\"Are conversion rates significantly different by country (α=0.05)? {'Yes' if p_value_country < 0.05 else 'No'}\")"
      ],
      "metadata": {
        "colab": {
          "base_uri": "https://localhost:8080/"
        },
        "id": "xnBPfADPtFZQ",
        "outputId": "0d992a84-7cc4-47b2-deab-9e38c3c99693"
      },
      "execution_count": 34,
      "outputs": [
        {
          "output_type": "stream",
          "name": "stdout",
          "text": [
            "Chi-square statistic: 3.2112\n",
            "P-value: 0.2008\n",
            "Are conversion rates significantly different by country (α=0.05)? No\n"
          ]
        }
      ]
    },
    {
      "cell_type": "markdown",
      "source": [
        "**Results**:\n",
        "  - Chi-square statistic: 3.21\n",
        "  - P-value: 0.20 (above our 0.05 threshold)\n",
        "\n",
        "With a p-value of 0.20, we cannot reject the null hypothesis. This means that while we observed some differences in conversion rates between countries (UK: 12.06%, US: 11.95%, CA: 11.53%), these differences aren't statistically significant and could be due to random chance."
      ],
      "metadata": {
        "id": "mrUNB3ojZBk8"
      }
    },
    {
      "cell_type": "markdown",
      "source": [
        "## Testing for Country-Specific Effects\n",
        "\n",
        "Analyzing whether the new page performs differently across countries by running separate statistical tests for each country. This helps identify if the new page works well in some markets but not others.\n",
        "\n",
        "\n",
        "Hypothesis 3: Does the effect of the new page differ by country?\n",
        "\n",
        "H0: The effect of the new page is the same across all countries\n",
        "\n",
        "H1: The effect of the new page differs by country"
      ],
      "metadata": {
        "id": "oMUChrNAoK0L"
      }
    },
    {
      "cell_type": "code",
      "source": [
        "# Hypothesis 3: Does the effect of the new page differ by country?\n",
        "print(\"\\nHypothesis 3: Does the effect of the new page differ by country?\")\n",
        "print(\"H0: The effect of the new page is the same across all countries\")\n",
        "print(\"H1: The effect of the new page differs by country\")\n",
        "\n",
        "# Test interaction effect for each country\n",
        "countries = df_merged['country'].unique()\n",
        "interaction_results = {}\n",
        "\n",
        "for country in countries:\n",
        "    country_data = df_merged[df_merged['country'] == country]\n",
        "\n",
        "    country_control = country_data[country_data['group'] == 'control']['converted']\n",
        "    country_treatment = country_data[country_data['group'] == 'treatment']['converted']\n",
        "\n",
        "    country_control_rate = country_control.mean()\n",
        "    country_treatment_rate = country_treatment.mean()\n",
        "\n",
        "    # Two-proportion z-test\n",
        "    country_count_control = len(country_control)\n",
        "    country_count_treatment = len(country_treatment)\n",
        "    country_successes_control = country_control.sum()\n",
        "    country_successes_treatment = country_treatment.sum()\n",
        "\n",
        "    country_z_stat, country_p_value = proportions_ztest(\n",
        "        count=[country_successes_treatment, country_successes_control],\n",
        "        nobs=[country_count_treatment, country_count_control],\n",
        "        alternative='two-sided'  # Testing for any difference\n",
        "    )\n",
        "\n",
        "    interaction_results[country] = {\n",
        "        'control_rate': country_control_rate,\n",
        "        'treatment_rate': country_treatment_rate,\n",
        "        'difference': country_treatment_rate - country_control_rate,\n",
        "        'z_stat': country_z_stat,\n",
        "        'p_value': country_p_value,\n",
        "        'significant': country_p_value < 0.05\n",
        "    }"
      ],
      "metadata": {
        "colab": {
          "base_uri": "https://localhost:8080/"
        },
        "id": "Rc6V2IRytJJZ",
        "outputId": "2400c23e-463a-40ee-8916-ba60f4ae8d74"
      },
      "execution_count": 35,
      "outputs": [
        {
          "output_type": "stream",
          "name": "stdout",
          "text": [
            "\n",
            "Hypothesis 3: Does the effect of the new page differ by country?\n",
            "H0: The effect of the new page is the same across all countries\n",
            "H1: The effect of the new page differs by country\n"
          ]
        }
      ]
    },
    {
      "cell_type": "code",
      "source": [
        "# Display results by country\n",
        "print(\"\\nNew page effect by country:\")\n",
        "for country, results in interaction_results.items():\n",
        "    print(f\"\\n{country}:\")\n",
        "    print(f\"  Control conversion rate: {results['control_rate']:.4f}\")\n",
        "    print(f\"  Treatment conversion rate: {results['treatment_rate']:.4f}\")\n",
        "    print(f\"  Difference: {results['difference']:.4f}\")\n",
        "    print(f\"  Z-statistic: {results['z_stat']:.4f}\")\n",
        "    print(f\"  P-value: {results['p_value']:.4f}\")\n",
        "    print(f\"  Significant difference (α=0.05)? {'Yes' if results['significant'] else 'No'}\")"
      ],
      "metadata": {
        "colab": {
          "base_uri": "https://localhost:8080/"
        },
        "id": "TnmCppXSq_y4",
        "outputId": "e76db68d-2b83-4398-efd0-944edc1c3812"
      },
      "execution_count": 36,
      "outputs": [
        {
          "output_type": "stream",
          "name": "stdout",
          "text": [
            "\n",
            "New page effect by country:\n",
            "\n",
            "US:\n",
            "  Control conversion rate: 0.1206\n",
            "  Treatment conversion rate: 0.1185\n",
            "  Difference: -0.0022\n",
            "  Z-statistic: -1.5093\n",
            "  P-value: 0.1312\n",
            "  Significant difference (α=0.05)? No\n",
            "\n",
            "CA:\n",
            "  Control conversion rate: 0.1188\n",
            "  Treatment conversion rate: 0.1119\n",
            "  Difference: -0.0069\n",
            "  Z-statistic: -1.2969\n",
            "  P-value: 0.1947\n",
            "  Significant difference (α=0.05)? No\n",
            "\n",
            "UK:\n",
            "  Control conversion rate: 0.1200\n",
            "  Treatment conversion rate: 0.1212\n",
            "  Difference: 0.0011\n",
            "  Z-statistic: 0.4749\n",
            "  P-value: 0.6349\n",
            "  Significant difference (α=0.05)? No\n"
          ]
        }
      ]
    },
    {
      "cell_type": "markdown",
      "source": [
        "We examined whether the effect of the new page differs by country:\n",
        "\n",
        "- **US results**:\n",
        "  - Control: 12.06% conversion\n",
        "  - Treatment: 11.85% conversion\n",
        "  - Difference: -0.22%\n",
        "  - P-value: 0.13 (not significant)\n",
        "\n",
        "- **Canada results**:\n",
        "  - Control: 11.88% conversion\n",
        "  - Treatment: 11.19% conversion\n",
        "  - Difference: -0.69%\n",
        "  - P-value: 0.19 (not significant)\n",
        "\n",
        "- **UK results**:\n",
        "  - Control: 12.00% conversion\n",
        "  - Treatment: 12.12% conversion\n",
        "  - Difference: +0.11%\n",
        "  - P-value: 0.63 (not significant)\n",
        "\n",
        "  None of the country-specific tests showed statistically significant differences between the old and new pages. This means that even in the UK where we saw a slight positive trend, we don't have enough evidence to conclude that the new page genuinely performs better in that market."
      ],
      "metadata": {
        "id": "qO7Q8-_5ZSZ-"
      }
    },
    {
      "cell_type": "markdown",
      "source": [
        "## Validating Statistical Confidence: Power Analysis"
      ],
      "metadata": {
        "id": "QdTyMC3BvOwL"
      }
    },
    {
      "cell_type": "code",
      "source": [
        "# For two-proportion test\n",
        "control_rate = control_data.mean()\n",
        "treatment_rate = treatment_data.mean()\n",
        "effect_size = abs(treatment_rate - control_rate) / np.sqrt((control_rate * (1 - control_rate) + treatment_rate * (1 - treatment_rate)) / 2)\n",
        "total_sample = count_control + count_treatment\n",
        "alpha = 0.05\n",
        "\n",
        "power_analysis = TTestIndPower()\n",
        "power = power_analysis.solve_power(effect_size=effect_size, nobs1=total_sample/2, alpha=alpha)\n",
        "\n",
        "print(f\"Effect size: {effect_size:.4f}\")\n",
        "print(f\"Total sample size: {total_sample}\")\n",
        "print(f\"Statistical power: {power:.4f}\")\n",
        "print(f\"Is the test sufficiently powered (>0.8)? {'Yes' if power > 0.8 else 'No'}\")\n",
        "\n",
        "# Calculate minimum sample size for future tests\n",
        "if power < 0.8:\n",
        "    min_sample_size = power_analysis.solve_power(effect_size=effect_size, power=0.8, alpha=alpha)\n",
        "    print(f\"Minimum sample size needed for 80% power: {int(min_sample_size * 2)} (total)\")"
      ],
      "metadata": {
        "colab": {
          "base_uri": "https://localhost:8080/"
        },
        "id": "jBrjFeHrqa2k",
        "outputId": "d0a3f375-b032-4065-8c65-5438b14946f6"
      },
      "execution_count": 37,
      "outputs": [
        {
          "output_type": "stream",
          "name": "stdout",
          "text": [
            "Effect size: 0.0049\n",
            "Total sample size: 290589\n",
            "Statistical power: 0.2598\n",
            "Is the test sufficiently powered (>0.8)? No\n",
            "Minimum sample size needed for 80% power: 1320286 (total)\n"
          ]
        }
      ]
    },
    {
      "cell_type": "markdown",
      "source": [
        "We evaluated whether our test had enough statistical power to detect meaningful differences:\n",
        "\n",
        "- **Observed effect size**: 0.0016 (0.16 percentage points)\n",
        "- **Current test power**: 26% (below the standard 80% threshold)\n",
        "- **Sample size needed for 80% power**: 1,320,286 total users (about 4.5 times our current sample)\n",
        "\n",
        "Our test didn't have enough statistical power to reliably detect very small differences. This means that if the true effect of the new page is very small (around 0.16 percentage points), we might have missed it. However, such a small difference would have minimal business impact anyway."
      ],
      "metadata": {
        "id": "ttMPSM5eaXBS"
      }
    },
    {
      "cell_type": "markdown",
      "source": [
        "# Summary and Recommendations"
      ],
      "metadata": {
        "id": "iGpW7MvOos6Z"
      }
    },
    {
      "cell_type": "markdown",
      "source": [
        "**Key Findings:**\n",
        "1. Overall conversion rate: 11.96%\n",
        "2. Control group (old page) conversion rate: 12.04%\n",
        "3. Treatment group (new page) conversion rate: 11.88%\n",
        "4. Difference: -0.16 percentage points (-1.31% relative change)\n",
        "5. No statistically significant difference between page versions\n",
        "6. No significant differences in performance across countries\n",
        "\n",
        "**Business Recommendations:**\n",
        "1. **Do not implement the new page** at this time based on current evidence\n",
        "2. **Consider these options moving forward**:\n",
        "   - Refine the new page design based on user feedback and conduct another test\n",
        "   - Run a larger test if detecting a very small improvement would be valuable\n",
        "   - Focus improvement efforts on other aspects of the customer journey\n",
        "   - Investigate why the new design didn't improve conversions to inform future redesigns\n",
        "\n",
        "**Assumptions & Caveats:**\n",
        "1. We assume randomization was properly implemented in assigning users to test groups\n",
        "2. We removed users with inconsistent page assignments to maintain test integrity\n",
        "3. Our analysis focuses on conversion rate only, not other metrics like engagement or revenue per user\n",
        "4. The test results are valid only for the time period during which data was collected\n",
        "5. Cultural differences beyond country may influence conversion behavior but weren't analyzed\n",
        "\n",
        "**Future Considerations:**\n",
        "1. Analyze user engagement metrics beyond conversion (time on page, click-through rates)\n",
        "2. Test variations of the new design that address potential usability issues\n",
        "3. Consider segmenting users beyond geography (new vs. returning, device type, etc.)\n",
        "4. Implement multivariate testing to isolate which specific elements impact conversions\n",
        "5. Track long-term value of converted customers, not just conversion rates\n",
        "\n",
        "**Clarifying Questions:**\n",
        "1. What specific changes were made in the new page design?\n",
        "2. What was the business rationale behind these changes?\n",
        "3. What is the minimum conversion rate improvement that would justify implementation costs?\n",
        "4. Are there specific user segments or markets we should prioritize?\n",
        "5. Was this test conducted during a representative time period?"
      ],
      "metadata": {
        "id": "07h7vLNJapPh"
      }
    }
  ]
}